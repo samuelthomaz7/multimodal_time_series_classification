{
 "cells": [
  {
   "cell_type": "code",
   "execution_count": 23,
   "metadata": {},
   "outputs": [],
   "source": [
    "import torch\n",
    "from torch import nn\n",
    "from input.reading_datasets import *\n",
    "from input.time_series_module import TimeSeriesDataset\n",
    "import os\n",
    "from utils_file import *\n",
    "import seaborn as sns\n",
    "import matplotlib.pyplot as plt"
   ]
  },
  {
   "cell_type": "code",
   "execution_count": 24,
   "metadata": {},
   "outputs": [
    {
     "data": {
      "text/plain": [
       "True"
      ]
     },
     "execution_count": 24,
     "metadata": {},
     "output_type": "execute_result"
    }
   ],
   "source": [
    "torch.cuda.is_available()"
   ]
  },
  {
   "cell_type": "code",
   "execution_count": 25,
   "metadata": {},
   "outputs": [
    {
     "name": "stdout",
     "output_type": "stream",
     "text": [
      "Reading from path\n"
     ]
    }
   ],
   "source": [
    "all_datasets = get_all_datasets(read_from_path=True)"
   ]
  },
  {
   "cell_type": "code",
   "execution_count": 26,
   "metadata": {},
   "outputs": [],
   "source": [
    "complete_data = get_all_results(False)\n",
    "# complete_data.query(\"dataset == 'standwalkjump'\")"
   ]
  },
  {
   "cell_type": "code",
   "execution_count": 27,
   "metadata": {},
   "outputs": [],
   "source": [
    "agg_results_data = get_all_results(True)"
   ]
  },
  {
   "cell_type": "code",
   "execution_count": 28,
   "metadata": {},
   "outputs": [
    {
     "name": "stdout",
     "output_type": "stream",
     "text": [
      "<class 'pandas.core.frame.DataFrame'>\n",
      "RangeIndex: 19 entries, 0 to 18\n",
      "Data columns (total 7 columns):\n",
      " #   Column              Non-Null Count  Dtype  \n",
      "---  ------              --------------  -----  \n",
      " 0   dataset             19 non-null     object \n",
      " 1   model_name          19 non-null     object \n",
      " 2   max_train_accuracy  19 non-null     float64\n",
      " 3   max_test_accuracy   19 non-null     float64\n",
      " 4   epochs              19 non-null     float64\n",
      " 5   execution_time      19 non-null     float64\n",
      " 6   time_per_epoch      19 non-null     float64\n",
      "dtypes: float64(5), object(2)\n",
      "memory usage: 1.2+ KB\n"
     ]
    }
   ],
   "source": [
    "agg_results_data.info()"
   ]
  },
  {
   "cell_type": "code",
   "execution_count": 29,
   "metadata": {},
   "outputs": [
    {
     "data": {
      "text/html": [
       "<div>\n",
       "<style scoped>\n",
       "    .dataframe tbody tr th:only-of-type {\n",
       "        vertical-align: middle;\n",
       "    }\n",
       "\n",
       "    .dataframe tbody tr th {\n",
       "        vertical-align: top;\n",
       "    }\n",
       "\n",
       "    .dataframe thead th {\n",
       "        text-align: right;\n",
       "    }\n",
       "</style>\n",
       "<table border=\"1\" class=\"dataframe\">\n",
       "  <thead>\n",
       "    <tr style=\"text-align: right;\">\n",
       "      <th></th>\n",
       "      <th>dataset</th>\n",
       "      <th>model_name</th>\n",
       "      <th>max_train_accuracy</th>\n",
       "      <th>max_test_accuracy</th>\n",
       "      <th>epochs</th>\n",
       "      <th>execution_time</th>\n",
       "      <th>time_per_epoch</th>\n",
       "    </tr>\n",
       "  </thead>\n",
       "  <tbody>\n",
       "    <tr>\n",
       "      <th>0</th>\n",
       "      <td>articularywordrecognition</td>\n",
       "      <td>FullyConvolutionalNetwork1D</td>\n",
       "      <td>0.998043</td>\n",
       "      <td>0.995652</td>\n",
       "      <td>5000.00</td>\n",
       "      <td>72.692681</td>\n",
       "      <td>0.014539</td>\n",
       "    </tr>\n",
       "    <tr>\n",
       "      <th>1</th>\n",
       "      <td>articularywordrecognition</td>\n",
       "      <td>FullyConvolutionalNetwork1DLate</td>\n",
       "      <td>0.999565</td>\n",
       "      <td>1.000000</td>\n",
       "      <td>159.70</td>\n",
       "      <td>28.047982</td>\n",
       "      <td>0.189228</td>\n",
       "    </tr>\n",
       "    <tr>\n",
       "      <th>2</th>\n",
       "      <td>atrialfibrillation</td>\n",
       "      <td>FullyConvolutionalNetwork1D</td>\n",
       "      <td>1.000000</td>\n",
       "      <td>0.433333</td>\n",
       "      <td>5000.00</td>\n",
       "      <td>15.365478</td>\n",
       "      <td>0.003073</td>\n",
       "    </tr>\n",
       "    <tr>\n",
       "      <th>3</th>\n",
       "      <td>atrialfibrillation</td>\n",
       "      <td>MultiLayerPerceptron</td>\n",
       "      <td>1.000000</td>\n",
       "      <td>0.516667</td>\n",
       "      <td>5000.00</td>\n",
       "      <td>7.680521</td>\n",
       "      <td>0.001536</td>\n",
       "    </tr>\n",
       "    <tr>\n",
       "      <th>4</th>\n",
       "      <td>basicmotions</td>\n",
       "      <td>FullyConvolutionalNetwork1D</td>\n",
       "      <td>1.000000</td>\n",
       "      <td>1.000000</td>\n",
       "      <td>5000.00</td>\n",
       "      <td>0.058370</td>\n",
       "      <td>0.000012</td>\n",
       "    </tr>\n",
       "    <tr>\n",
       "      <th>5</th>\n",
       "      <td>basicmotions</td>\n",
       "      <td>FullyConvolutionalNetwork1DLate</td>\n",
       "      <td>1.000000</td>\n",
       "      <td>1.000000</td>\n",
       "      <td>4.00</td>\n",
       "      <td>0.093952</td>\n",
       "      <td>0.023524</td>\n",
       "    </tr>\n",
       "    <tr>\n",
       "      <th>6</th>\n",
       "      <td>basicmotions</td>\n",
       "      <td>MultiLayerPerceptron</td>\n",
       "      <td>0.987500</td>\n",
       "      <td>0.918750</td>\n",
       "      <td>5000.00</td>\n",
       "      <td>11.948030</td>\n",
       "      <td>0.002390</td>\n",
       "    </tr>\n",
       "    <tr>\n",
       "      <th>7</th>\n",
       "      <td>cricket</td>\n",
       "      <td>FullyConvolutionalNetwork1D</td>\n",
       "      <td>0.981944</td>\n",
       "      <td>1.000000</td>\n",
       "      <td>5000.00</td>\n",
       "      <td>0.430476</td>\n",
       "      <td>0.000086</td>\n",
       "    </tr>\n",
       "    <tr>\n",
       "      <th>8</th>\n",
       "      <td>cricket</td>\n",
       "      <td>FullyConvolutionalNetwork1DLate</td>\n",
       "      <td>0.988194</td>\n",
       "      <td>1.000000</td>\n",
       "      <td>6.70</td>\n",
       "      <td>0.741862</td>\n",
       "      <td>0.108058</td>\n",
       "    </tr>\n",
       "    <tr>\n",
       "      <th>9</th>\n",
       "      <td>cricket</td>\n",
       "      <td>MultiLayerPerceptron</td>\n",
       "      <td>0.994444</td>\n",
       "      <td>0.975000</td>\n",
       "      <td>5000.00</td>\n",
       "      <td>16.067394</td>\n",
       "      <td>0.003213</td>\n",
       "    </tr>\n",
       "    <tr>\n",
       "      <th>10</th>\n",
       "      <td>eigenworms</td>\n",
       "      <td>FullyConvolutionalNetwork1D</td>\n",
       "      <td>1.000000</td>\n",
       "      <td>0.930769</td>\n",
       "      <td>5000.00</td>\n",
       "      <td>1802.640794</td>\n",
       "      <td>0.360528</td>\n",
       "    </tr>\n",
       "    <tr>\n",
       "      <th>11</th>\n",
       "      <td>eigenworms</td>\n",
       "      <td>MultiLayerPerceptron</td>\n",
       "      <td>1.000000</td>\n",
       "      <td>0.546154</td>\n",
       "      <td>5000.00</td>\n",
       "      <td>302.334677</td>\n",
       "      <td>0.060467</td>\n",
       "    </tr>\n",
       "    <tr>\n",
       "      <th>12</th>\n",
       "      <td>natops</td>\n",
       "      <td>FullyConvolutionalNetwork1D</td>\n",
       "      <td>0.993403</td>\n",
       "      <td>0.995833</td>\n",
       "      <td>5000.00</td>\n",
       "      <td>32.687182</td>\n",
       "      <td>0.006537</td>\n",
       "    </tr>\n",
       "    <tr>\n",
       "      <th>13</th>\n",
       "      <td>natops</td>\n",
       "      <td>FullyConvolutionalNetwork1DLate</td>\n",
       "      <td>0.988715</td>\n",
       "      <td>0.993056</td>\n",
       "      <td>773.25</td>\n",
       "      <td>148.902688</td>\n",
       "      <td>0.202434</td>\n",
       "    </tr>\n",
       "    <tr>\n",
       "      <th>14</th>\n",
       "      <td>natops</td>\n",
       "      <td>MultiLayerPerceptron</td>\n",
       "      <td>0.999653</td>\n",
       "      <td>0.981944</td>\n",
       "      <td>5000.00</td>\n",
       "      <td>68.063274</td>\n",
       "      <td>0.013613</td>\n",
       "    </tr>\n",
       "    <tr>\n",
       "      <th>15</th>\n",
       "      <td>racketsports</td>\n",
       "      <td>FullyConvolutionalNetwork1D</td>\n",
       "      <td>1.000000</td>\n",
       "      <td>0.936066</td>\n",
       "      <td>5000.00</td>\n",
       "      <td>84.673979</td>\n",
       "      <td>0.016935</td>\n",
       "    </tr>\n",
       "    <tr>\n",
       "      <th>16</th>\n",
       "      <td>racketsports</td>\n",
       "      <td>MultiLayerPerceptron</td>\n",
       "      <td>1.000000</td>\n",
       "      <td>0.859016</td>\n",
       "      <td>5000.00</td>\n",
       "      <td>68.601381</td>\n",
       "      <td>0.013720</td>\n",
       "    </tr>\n",
       "    <tr>\n",
       "      <th>17</th>\n",
       "      <td>standwalkjump</td>\n",
       "      <td>FullyConvolutionalNetwork1D</td>\n",
       "      <td>1.000000</td>\n",
       "      <td>0.500000</td>\n",
       "      <td>5000.00</td>\n",
       "      <td>23.921203</td>\n",
       "      <td>0.004784</td>\n",
       "    </tr>\n",
       "    <tr>\n",
       "      <th>18</th>\n",
       "      <td>standwalkjump</td>\n",
       "      <td>MultiLayerPerceptron</td>\n",
       "      <td>1.000000</td>\n",
       "      <td>0.550000</td>\n",
       "      <td>5000.00</td>\n",
       "      <td>8.453681</td>\n",
       "      <td>0.001691</td>\n",
       "    </tr>\n",
       "  </tbody>\n",
       "</table>\n",
       "</div>"
      ],
      "text/plain": [
       "                      dataset                       model_name  \\\n",
       "0   articularywordrecognition      FullyConvolutionalNetwork1D   \n",
       "1   articularywordrecognition  FullyConvolutionalNetwork1DLate   \n",
       "2          atrialfibrillation      FullyConvolutionalNetwork1D   \n",
       "3          atrialfibrillation             MultiLayerPerceptron   \n",
       "4                basicmotions      FullyConvolutionalNetwork1D   \n",
       "5                basicmotions  FullyConvolutionalNetwork1DLate   \n",
       "6                basicmotions             MultiLayerPerceptron   \n",
       "7                     cricket      FullyConvolutionalNetwork1D   \n",
       "8                     cricket  FullyConvolutionalNetwork1DLate   \n",
       "9                     cricket             MultiLayerPerceptron   \n",
       "10                 eigenworms      FullyConvolutionalNetwork1D   \n",
       "11                 eigenworms             MultiLayerPerceptron   \n",
       "12                     natops      FullyConvolutionalNetwork1D   \n",
       "13                     natops  FullyConvolutionalNetwork1DLate   \n",
       "14                     natops             MultiLayerPerceptron   \n",
       "15               racketsports      FullyConvolutionalNetwork1D   \n",
       "16               racketsports             MultiLayerPerceptron   \n",
       "17              standwalkjump      FullyConvolutionalNetwork1D   \n",
       "18              standwalkjump             MultiLayerPerceptron   \n",
       "\n",
       "    max_train_accuracy  max_test_accuracy   epochs  execution_time  \\\n",
       "0             0.998043           0.995652  5000.00       72.692681   \n",
       "1             0.999565           1.000000   159.70       28.047982   \n",
       "2             1.000000           0.433333  5000.00       15.365478   \n",
       "3             1.000000           0.516667  5000.00        7.680521   \n",
       "4             1.000000           1.000000  5000.00        0.058370   \n",
       "5             1.000000           1.000000     4.00        0.093952   \n",
       "6             0.987500           0.918750  5000.00       11.948030   \n",
       "7             0.981944           1.000000  5000.00        0.430476   \n",
       "8             0.988194           1.000000     6.70        0.741862   \n",
       "9             0.994444           0.975000  5000.00       16.067394   \n",
       "10            1.000000           0.930769  5000.00     1802.640794   \n",
       "11            1.000000           0.546154  5000.00      302.334677   \n",
       "12            0.993403           0.995833  5000.00       32.687182   \n",
       "13            0.988715           0.993056   773.25      148.902688   \n",
       "14            0.999653           0.981944  5000.00       68.063274   \n",
       "15            1.000000           0.936066  5000.00       84.673979   \n",
       "16            1.000000           0.859016  5000.00       68.601381   \n",
       "17            1.000000           0.500000  5000.00       23.921203   \n",
       "18            1.000000           0.550000  5000.00        8.453681   \n",
       "\n",
       "    time_per_epoch  \n",
       "0         0.014539  \n",
       "1         0.189228  \n",
       "2         0.003073  \n",
       "3         0.001536  \n",
       "4         0.000012  \n",
       "5         0.023524  \n",
       "6         0.002390  \n",
       "7         0.000086  \n",
       "8         0.108058  \n",
       "9         0.003213  \n",
       "10        0.360528  \n",
       "11        0.060467  \n",
       "12        0.006537  \n",
       "13        0.202434  \n",
       "14        0.013613  \n",
       "15        0.016935  \n",
       "16        0.013720  \n",
       "17        0.004784  \n",
       "18        0.001691  "
      ]
     },
     "execution_count": 29,
     "metadata": {},
     "output_type": "execute_result"
    }
   ],
   "source": [
    "agg_results_data"
   ]
  },
  {
   "cell_type": "code",
   "execution_count": 30,
   "metadata": {},
   "outputs": [
    {
     "data": {
      "image/png": "[encoded data removed]",
      "text/plain": [
       "<Figure size 1300x600 with 1 Axes>"
      ]
     },
     "metadata": {},
     "output_type": "display_data"
    }
   ],
   "source": [
    "plt.figure(figsize = (13,6))\n",
    "ax = sns.barplot(\n",
    "    data = agg_results_data, \n",
    "    x = 'dataset', \n",
    "    y = 100*agg_results_data['max_test_accuracy'].apply(lambda x: round(x, 4)), \n",
    "    hue = 'model_name'\n",
    ")\n",
    "\n",
    "for i in ax.containers:\n",
    "    ax.bar_label(i,)\n",
    "\n",
    "plt.xticks(rotation = 15)\n",
    "plt.ylim([0, 100*1.4])\n",
    "plt.show()"
   ]
  },
  {
   "cell_type": "code",
   "execution_count": 9,
   "metadata": {},
   "outputs": [],
   "source": [
    "from modality_info import modalities"
   ]
  },
  {
   "cell_type": "code",
   "execution_count": 10,
   "metadata": {},
   "outputs": [
    {
     "data": {
      "text/plain": [
       "dict_items([('BasicMotions', {1: [0, 1, 2, 3], 2: [4, 5]})])"
      ]
     },
     "execution_count": 10,
     "metadata": {},
     "output_type": "execute_result"
    }
   ],
   "source": [
    "modalities.items()"
   ]
  },
  {
   "cell_type": "code",
   "execution_count": 11,
   "metadata": {},
   "outputs": [],
   "source": [
    "# class FullyConvolutionalNetwork1DLate_test(nn.Module):\n",
    "\n",
    "#     def __init__(self, *args, **kwargs) -> None:\n",
    "#         super().__init__(*args, **kwargs)\n",
    "\n",
    "#         self.modalities = nn.ModuleDict()\n",
    "        \n",
    "#         # Define sub-networks for each modality\n",
    "#         for i, input_shape in enumerate(2):\n",
    "#             self.modalities[f\"modality_{i}\"] = nn.Sequential(\n",
    "#                 nn.Conv1d(in_channels=input_shape[1], out_channels=128, kernel_size=8),\n",
    "#                 nn.ReLU(),\n",
    "#                 nn.BatchNorm1d(128),\n",
    "#                 nn.Conv1d(in_channels=128, out_channels=256, kernel_size=5),\n",
    "#                 nn.ReLU(),\n",
    "#                 nn.BatchNorm1d(256),\n",
    "#                 nn.Conv1d(in_channels=256, out_channels=128, kernel_size=3),\n",
    "#                 nn.ReLU(),\n",
    "#                 nn.BatchNorm1d(128),\n",
    "#                 nn.AdaptiveAvgPool1d(output_size=1),\n",
    "#                 nn.Flatten()\n",
    "#             )\n",
    "\n",
    "\n",
    "#         self.pooling_layer = nn.AdaptiveAvgPool1d(output_size=1)\n",
    "#         # self.fusion_conv = nn.Conv1d(in_channels=256, out_channels=128, kernel_size=3)  # Adjust dimensions as needed\n",
    "#         self.final_fc = nn.Linear(in_features=128, out_features=6)\n",
    "\n",
    "\n",
    "\n",
    "#     def forward(self, x):\n",
    "\n",
    "#         out_network1 = self.network1(x[0])\n",
    "#         out_network2 = self.network2(x[1])\n",
    "\n",
    "        \n",
    "\n",
    "#         return out_network1.shape, out_network2.shape\n",
    "\n",
    "\n",
    "\n",
    "\n",
    "    "
   ]
  },
  {
   "cell_type": "code",
   "execution_count": 12,
   "metadata": {},
   "outputs": [],
   "source": [
    "# test_model = FullyConvolutionalNetwork1DLate_test()\n",
    "\n",
    "torch.manual_seed(42)\n",
    "simulated_multi_modal = torch.rand(size = (64, 6, 100))\n",
    "modality1 = simulated_multi_modal[:, 0:3, :]\n",
    "modality2 = simulated_multi_modal[:, 3:, :]\n",
    "all_modalities = torch.stack([modality1, modality2])"
   ]
  },
  {
   "cell_type": "code",
   "execution_count": 13,
   "metadata": {},
   "outputs": [
    {
     "data": {
      "text/plain": [
       "torch.Size([2, 64, 3, 100])"
      ]
     },
     "execution_count": 13,
     "metadata": {},
     "output_type": "execute_result"
    }
   ],
   "source": [
    "all_modalities.shape"
   ]
  }
 ],
 "metadata": {
  "kernelspec": {
   "display_name": "pytorch_enviroment",
   "language": "python",
   "name": "python3"
  },
  "language_info": {
   "codemirror_mode": {
    "name": "ipython",
    "version": 3
   },
   "file_extension": ".py",
   "mimetype": "text/x-python",
   "name": "python",
   "nbconvert_exporter": "python",
   "pygments_lexer": "ipython3",
   "version": "3.10.14"
  }
 },
 "nbformat": 4,
 "nbformat_minor": 2
}
